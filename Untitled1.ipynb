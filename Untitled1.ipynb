{
  "nbformat": 4,
  "nbformat_minor": 0,
  "metadata": {
    "colab": {
      "provenance": [],
      "authorship_tag": "ABX9TyMN8CzQN0BTxyraZDG47Vhp",
      "include_colab_link": true
    },
    "kernelspec": {
      "name": "python3",
      "display_name": "Python 3"
    },
    "language_info": {
      "name": "python"
    }
  },
  "cells": [
    {
      "cell_type": "markdown",
      "metadata": {
        "id": "view-in-github",
        "colab_type": "text"
      },
      "source": [
        "<a href=\"https://colab.research.google.com/github/pereira-71/PRACTICA-01-SIS421/blob/main/Untitled1.ipynb\" target=\"_parent\"><img src=\"https://colab.research.google.com/assets/colab-badge.svg\" alt=\"Open In Colab\"/></a>"
      ]
    },
    {
      "cell_type": "code",
      "execution_count": 7,
      "metadata": {
        "colab": {
          "base_uri": "https://localhost:8080/"
        },
        "id": "wDUewGwV3CtY",
        "outputId": "ed7e498d-66fc-4f63-ed4e-4e07d7b4954e"
      },
      "outputs": [
        {
          "output_type": "stream",
          "name": "stdout",
          "text": [
            "Requirement already satisfied: requests in /usr/local/lib/python3.11/dist-packages (2.32.3)\n",
            "Requirement already satisfied: beautifulsoup4 in /usr/local/lib/python3.11/dist-packages (4.13.4)\n",
            "Requirement already satisfied: lxml in /usr/local/lib/python3.11/dist-packages (5.4.0)\n",
            "Requirement already satisfied: mutagen in /usr/local/lib/python3.11/dist-packages (1.47.0)\n",
            "Requirement already satisfied: python-magic in /usr/local/lib/python3.11/dist-packages (0.4.27)\n",
            "Requirement already satisfied: tqdm in /usr/local/lib/python3.11/dist-packages (4.67.1)\n",
            "Requirement already satisfied: selenium in /usr/local/lib/python3.11/dist-packages (4.34.2)\n",
            "Requirement already satisfied: charset-normalizer<4,>=2 in /usr/local/lib/python3.11/dist-packages (from requests) (3.4.2)\n",
            "Requirement already satisfied: idna<4,>=2.5 in /usr/local/lib/python3.11/dist-packages (from requests) (3.10)\n",
            "Requirement already satisfied: urllib3<3,>=1.21.1 in /usr/local/lib/python3.11/dist-packages (from requests) (2.5.0)\n",
            "Requirement already satisfied: certifi>=2017.4.17 in /usr/local/lib/python3.11/dist-packages (from requests) (2025.7.14)\n",
            "Requirement already satisfied: soupsieve>1.2 in /usr/local/lib/python3.11/dist-packages (from beautifulsoup4) (2.7)\n",
            "Requirement already satisfied: typing-extensions>=4.0.0 in /usr/local/lib/python3.11/dist-packages (from beautifulsoup4) (4.14.1)\n",
            "Requirement already satisfied: trio~=0.30.0 in /usr/local/lib/python3.11/dist-packages (from selenium) (0.30.0)\n",
            "Requirement already satisfied: trio-websocket~=0.12.2 in /usr/local/lib/python3.11/dist-packages (from selenium) (0.12.2)\n",
            "Requirement already satisfied: websocket-client~=1.8.0 in /usr/local/lib/python3.11/dist-packages (from selenium) (1.8.0)\n",
            "Requirement already satisfied: attrs>=23.2.0 in /usr/local/lib/python3.11/dist-packages (from trio~=0.30.0->selenium) (25.3.0)\n",
            "Requirement already satisfied: sortedcontainers in /usr/local/lib/python3.11/dist-packages (from trio~=0.30.0->selenium) (2.4.0)\n",
            "Requirement already satisfied: outcome in /usr/local/lib/python3.11/dist-packages (from trio~=0.30.0->selenium) (1.3.0.post0)\n",
            "Requirement already satisfied: sniffio>=1.3.0 in /usr/local/lib/python3.11/dist-packages (from trio~=0.30.0->selenium) (1.3.1)\n",
            "Requirement already satisfied: wsproto>=0.14 in /usr/local/lib/python3.11/dist-packages (from trio-websocket~=0.12.2->selenium) (1.2.0)\n",
            "Requirement already satisfied: pysocks!=1.5.7,<2.0,>=1.5.6 in /usr/local/lib/python3.11/dist-packages (from urllib3[socks]~=2.5.0->selenium) (1.7.1)\n",
            "Requirement already satisfied: h11<1,>=0.9.0 in /usr/local/lib/python3.11/dist-packages (from wsproto>=0.14->trio-websocket~=0.12.2->selenium) (0.16.0)\n",
            "Hit:1 https://cloud.r-project.org/bin/linux/ubuntu jammy-cran40/ InRelease\n",
            "Hit:2 https://developer.download.nvidia.com/compute/cuda/repos/ubuntu2204/x86_64  InRelease\n",
            "Hit:3 https://r2u.stat.illinois.edu/ubuntu jammy InRelease\n",
            "Hit:4 http://security.ubuntu.com/ubuntu jammy-security InRelease\n",
            "Hit:5 http://archive.ubuntu.com/ubuntu jammy InRelease\n",
            "Hit:6 http://archive.ubuntu.com/ubuntu jammy-updates InRelease\n",
            "Hit:7 http://archive.ubuntu.com/ubuntu jammy-backports InRelease\n",
            "Hit:8 https://ppa.launchpadcontent.net/deadsnakes/ppa/ubuntu jammy InRelease\n",
            "Hit:9 https://ppa.launchpadcontent.net/graphics-drivers/ppa/ubuntu jammy InRelease\n",
            "Hit:10 https://ppa.launchpadcontent.net/ubuntugis/ppa/ubuntu jammy InRelease\n",
            "Reading package lists... Done\n",
            "W: Skipping acquire of configured file 'main/source/Sources' as repository 'https://r2u.stat.illinois.edu/ubuntu jammy InRelease' does not seem to provide it (sources.list entry misspelt?)\n",
            "Reading package lists... Done\n",
            "Building dependency tree... Done\n",
            "Reading state information... Done\n",
            "chromium-chromedriver is already the newest version (1:85.0.4183.83-0ubuntu2.22.04.1).\n",
            "0 upgraded, 0 newly installed, 0 to remove and 35 not upgraded.\n",
            "Bibliotecas instaladas correctamente\n"
          ]
        }
      ],
      "source": [
        "!pip install requests beautifulsoup4 lxml mutagen python-magic tqdm selenium\n",
        "!apt-get update\n",
        "!apt install chromium-chromedriver\n",
        "print(\"Bibliotecas instaladas correctamente\")"
      ]
    },
    {
      "cell_type": "code",
      "source": [
        "import requests\n",
        "from bs4 import BeautifulSoup\n",
        "import os\n",
        "from urllib.parse import urljoin, urlparse\n",
        "import time\n",
        "from concurrent.futures import ThreadPoolExecutor\n",
        "import logging\n",
        "import sqlite3\n",
        "from tqdm import tqdm\n",
        "from mutagen.mp3 import MP3\n",
        "from mutagen.wave import WAVE\n",
        "from mutagen.oggvorbis import OggVorbis\n",
        "from mutagen.easyid3 import EasyID3\n",
        "import magic\n",
        "import random\n",
        "\n",
        "# Configuración de logging\n",
        "logging.basicConfig(level=logging.INFO, format='%(asctime)s - %(levelname)s - %(message)s')\n",
        "\n",
        "# Lista de User-Agents para rotación\n",
        "USER_AGENTS = [\n",
        "    'Mozilla/5.0 (Windows NT 10.0; Win64; x64) AppleWebKit/537.36 (KHTML, like Gecko) Chrome/91.0.4472.124 Safari/537.36',\n",
        "    'Mozilla/5.0 (Macintosh; Intel Mac OS X 10_15_7) AppleWebKit/537.36 (KHTML, like Gecko) Chrome/90.0.4430.212 Safari/537.36',\n",
        "    'Mozilla/5.0 (X11; Linux x86_64) AppleWebKit/537.36 (KHTML, like Gecko) Chrome/88.0.4324.96 Safari/537.36'\n",
        "]\n",
        "\n",
        "def get_random_headers():\n",
        "    return {'User-Agent': random.choice(USER_AGENTS)}\n",
        "\n",
        "def descargar_audios(url_pagina, carpeta_destino=\"/content/drive/MyDrive/audios_descargados\", max_audios=20, min_duration=5):\n",
        "    \"\"\"\n",
        "    Descarga audios de una página web con optimizaciones.\n",
        "\n",
        "    Parámetros:\n",
        "    - url_pagina: URL de la página a scrapear\n",
        "    - carpeta_destino: Carpeta donde guardar audios\n",
        "    - max_audios: Número máximo de audios a descargar\n",
        "    - min_duration: Duración mínima del audio en segundos\n",
        "    \"\"\"\n",
        "    max_audios = min(max(1, max_audios), 50)  # Límite ampliado a 50\n",
        "    timestamp = int(time.time())\n",
        "    carpeta_destino = f\"{carpeta_destino}/sitio_{timestamp}\"\n",
        "    os.makedirs(carpeta_destino, exist_ok=True)\n",
        "\n",
        "    extensiones_audio = ['.mp3', '.wav', '.ogg', '.m4a', '.aac', '.flac', '.wma']\n",
        "\n",
        "    # Conectar a SQLite\n",
        "    conn = sqlite3.connect(f\"{carpeta_destino}/audios.db\")\n",
        "    c = conn.cursor()\n",
        "    c.execute('''CREATE TABLE IF NOT EXISTS audios (url TEXT, filename TEXT, duration REAL, size_mb REAL)''')\n",
        "\n",
        "    try:\n",
        "        logging.info(f\"Accediendo a: {url_pagina}\")\n",
        "        response = requests.get(url_pagina, headers=get_random_headers(), timeout=15)\n",
        "        response.raise_for_status()\n",
        "        soup = BeautifulSoup(response.content, 'lxml')\n",
        "\n",
        "        elementos_audio = []\n",
        "        audios = soup.find_all('audio')\n",
        "        for audio in audios:\n",
        "            if src := audio.get('src'):\n",
        "                elementos_audio.append(src)\n",
        "            for source in audio.find_all('source'):\n",
        "                if src := source.get('src'):\n",
        "                    elementos_audio.append(src)\n",
        "\n",
        "        enlaces = soup.find_all('a', href=True)\n",
        "        for enlace in enlaces:\n",
        "            href = enlace['href'].lower()\n",
        "            if any(ext in href for ext in extensiones_audio):\n",
        "                elementos_audio.append(enlace['href'])\n",
        "\n",
        "        for tag in soup.find_all(attrs={\"data-src\": True, \"data-audio\": True}):\n",
        "            for attr in ['data-src', 'data-audio']:\n",
        "                if src := tag.get(attr):\n",
        "                    elementos_audio.append(src)\n",
        "\n",
        "        elementos_audio = list(set(filter(None, elementos_audio)))\n",
        "        logging.info(f\"Se encontraron {len(elementos_audio)} posibles archivos de audio\")\n",
        "\n",
        "        def download_audio(audio_url, index):\n",
        "            audio_url = urljoin(url_pagina, audio_url)\n",
        "            try:\n",
        "                head_response = requests.head(audio_url, headers=get_random_headers(), timeout=15)\n",
        "                content_type = head_response.headers.get('content-type', '')\n",
        "                content_length = int(head_response.headers.get('content-length', 0))\n",
        "                if not ('audio' in content_type.lower() or any(audio_url.lower().endswith(ext) for ext in extensiones_audio)):\n",
        "                    logging.warning(f\"No es un archivo de audio válido: {content_type}\")\n",
        "                    return 0\n",
        "                if content_length > 50 * 1024 * 1024:\n",
        "                    logging.warning(f\"Archivo demasiado grande: {audio_url}\")\n",
        "                    return 0\n",
        "\n",
        "                audio_response = requests.get(audio_url, headers=get_random_headers(), stream=True, timeout=30)\n",
        "                audio_response.raise_for_status()\n",
        "\n",
        "                ext = os.path.splitext(urlparse(audio_url).path)[1].lower() or '.mp3'\n",
        "                filename = f\"audio_{index + 1}{ext}\"\n",
        "                filepath = os.path.join(carpeta_destino, filename)\n",
        "\n",
        "                if os.path.exists(filepath):\n",
        "                    logging.info(f\"Audio ya existe: {filename}\")\n",
        "                    return 0\n",
        "\n",
        "                with open(filepath, 'wb') as f:\n",
        "                    for chunk in audio_response.iter_content(chunk_size=8192):\n",
        "                        f.write(chunk)\n",
        "\n",
        "                mime = magic.from_file(filepath, mime=True)\n",
        "                if not mime.startswith('audio/'):\n",
        "                    os.remove(filepath)\n",
        "                    logging.warning(f\"Archivo no es audio: {filename}\")\n",
        "                    return 0\n",
        "\n",
        "                duration = 0\n",
        "                try:\n",
        "                    if ext == '.mp3':\n",
        "                        audio = MP3(filepath, ID3=EasyID3)\n",
        "                        duration = audio.info.length\n",
        "                        logging.info(f\"Metadatos MP3: {audio.pprint()}\")\n",
        "                    elif ext == '.wav':\n",
        "                        audio = WAVE(filepath)\n",
        "                        duration = audio.info.length\n",
        "                    elif ext == '.ogg':\n",
        "                        audio = OggVorbis(filepath)\n",
        "                        duration = audio.info.length\n",
        "                    if min_duration > 0 and duration < min_duration:\n",
        "                        os.remove(filepath)\n",
        "                        logging.info(f\"Audio eliminado (duración {duration}s < {min_duration}s)\")\n",
        "                        return 0\n",
        "                except Exception as e:\n",
        "                    logging.warning(f\"Error obteniendo duración: {e}\")\n",
        "\n",
        "                size_mb = os.path.getsize(filepath) / (1024 * 1024)\n",
        "                c.execute(\"INSERT INTO audios (url, filename, duration, size_mb) VALUES (?, ?, ?, ?)\",\n",
        "                         (audio_url, filename, duration, size_mb))\n",
        "                conn.commit()\n",
        "\n",
        "                logging.info(f\"Audio guardado: {filename} ({size_mb:.2f} MB, {duration:.1f}s)\")\n",
        "                return 1\n",
        "            except Exception as e:\n",
        "                logging.error(f\"Error descargando {audio_url}: {e}\")\n",
        "                return 0\n",
        "\n",
        "        with ThreadPoolExecutor(max_workers=4) as executor:\n",
        "            futures = [executor.submit(download_audio, audio_url, i) for i, audio_url in enumerate(tqdm(elementos_audio, desc=\"Procesando audios\")) if i < max_audios]\n",
        "            audios_descargados = sum(f.result() for f in futures)\n",
        "\n",
        "        logging.info(f\"Descarga completada! {audios_descargados} audios guardados en '{carpeta_destino}'\")\n",
        "        conn.close()\n",
        "        return audios_descargados\n",
        "\n",
        "    except Exception as e:\n",
        "        logging.error(f\"Error accediendo a la página: {str(e)}\")\n",
        "        conn.close()\n",
        "        return 0"
      ],
      "metadata": {
        "id": "EkMTge503F3-"
      },
      "execution_count": 8,
      "outputs": []
    },
    {
      "cell_type": "code",
      "source": [
        "from google.colab import drive\n",
        "drive.mount('/content/drive')\n",
        "\n",
        "# URLs para descargar audios\n",
        "urls = [\n",
        "    \"https://www.soundjay.com/airplane-sound-effect.html\",\n",
        "    \"https://www.soundjay.com/button-sounds-1.html\",\n",
        "    \"https://www.soundjay.com/nature-sounds.html\"\n",
        "]\n",
        "\n",
        "# Descargar 20 audios de cada URL\n",
        "total_descargados = 0\n",
        "for i, url in enumerate(urls):\n",
        "    print(f\"\\n=== Procesando URL {i+1}/{len(urls)}: {url} ===\")\n",
        "    resultado = descargar_audios(\n",
        "        url_pagina=url,\n",
        "        carpeta_destino=f\"/content/drive/MyDrive/audios_descargados\",\n",
        "        max_audios=20,\n",
        "        min_duration=2\n",
        "    )\n",
        "    total_descargados += resultado\n",
        "    time.sleep(3)\n",
        "print(f\"\\nTotal de audios descargados: {total_descargados}\")"
      ],
      "metadata": {
        "colab": {
          "base_uri": "https://localhost:8080/"
        },
        "id": "kNhGrvjh3aLq",
        "outputId": "344ce317-160b-4cec-cf50-1f9241f8bdc9"
      },
      "execution_count": 9,
      "outputs": [
        {
          "output_type": "stream",
          "name": "stdout",
          "text": [
            "Drive already mounted at /content/drive; to attempt to forcibly remount, call drive.mount(\"/content/drive\", force_remount=True).\n",
            "\n",
            "=== Procesando URL 1/3: https://www.soundjay.com/airplane-sound-effect.html ===\n"
          ]
        },
        {
          "output_type": "stream",
          "name": "stderr",
          "text": [
            "Procesando audios: 100%|██████████| 24/24 [00:00<00:00, 1467.10it/s]\n",
            "ERROR:root:Error descargando https://www.soundjay.com/transportation/sounds/airplane-fly-by-01a.mp3: SQLite objects created in a thread can only be used in that same thread. The object was created in thread id 139956294676480 and this is thread id 139955110139456.\n",
            "ERROR:root:Error descargando https://www.soundjay.com/transportation/sounds/airplane-lift-off-01.mp3: SQLite objects created in a thread can only be used in that same thread. The object was created in thread id 139956294676480 and this is thread id 139955317757504.\n",
            "ERROR:root:Error descargando https://www.soundjay.com/transportation/airplane-fly-over-03.mp3: SQLite objects created in a thread can only be used in that same thread. The object was created in thread id 139956294676480 and this is thread id 139955118532160.\n",
            "ERROR:root:Error descargando https://www.soundjay.com/transportation/airplane-take-off-01.wav: SQLite objects created in a thread can only be used in that same thread. The object was created in thread id 139956294676480 and this is thread id 139955126924864.\n",
            "ERROR:root:Error descargando https://www.soundjay.com/transportation/airplane-fly-over-02a.wav: SQLite objects created in a thread can only be used in that same thread. The object was created in thread id 139956294676480 and this is thread id 139955317757504.\n",
            "ERROR:root:Error descargando https://www.soundjay.com/transportation/airplane-fly-over-01.wav: SQLite objects created in a thread can only be used in that same thread. The object was created in thread id 139956294676480 and this is thread id 139955118532160.\n",
            "ERROR:root:Error descargando https://www.soundjay.com/transportation/airplane-fly-by-02.wav: SQLite objects created in a thread can only be used in that same thread. The object was created in thread id 139956294676480 and this is thread id 139955110139456.\n",
            "ERROR:root:Error descargando https://www.soundjay.com/transportation/sounds/airplane-fly-by-02.mp3: SQLite objects created in a thread can only be used in that same thread. The object was created in thread id 139956294676480 and this is thread id 139955317757504.\n",
            "ERROR:root:Error descargando https://www.soundjay.com/transportation/sounds/airplane-fly-over-03.mp3: SQLite objects created in a thread can only be used in that same thread. The object was created in thread id 139956294676480 and this is thread id 139955118532160.\n",
            "ERROR:root:Error descargando https://www.soundjay.com/transportation/airplane-lift-off-01.wav: SQLite objects created in a thread can only be used in that same thread. The object was created in thread id 139956294676480 and this is thread id 139955126924864.\n",
            "ERROR:root:Error descargando https://www.soundjay.com/transportation/airplane-take-off-01.mp3: SQLite objects created in a thread can only be used in that same thread. The object was created in thread id 139956294676480 and this is thread id 139955317757504.\n",
            "ERROR:root:Error descargando https://www.soundjay.com/transportation/airplane-landing-01.wav: SQLite objects created in a thread can only be used in that same thread. The object was created in thread id 139956294676480 and this is thread id 139955110139456.\n",
            "ERROR:root:Error descargando https://www.soundjay.com/transportation/airplane-fly-over-01.mp3: SQLite objects created in a thread can only be used in that same thread. The object was created in thread id 139956294676480 and this is thread id 139955126924864.\n",
            "ERROR:root:Error descargando https://www.soundjay.com/transportation/airplane-fly-over-03.wav: SQLite objects created in a thread can only be used in that same thread. The object was created in thread id 139956294676480 and this is thread id 139955118532160.\n",
            "ERROR:root:Error descargando https://www.soundjay.com/transportation/sounds/airplane-take-off-01.mp3: SQLite objects created in a thread can only be used in that same thread. The object was created in thread id 139956294676480 and this is thread id 139955317757504.\n",
            "ERROR:root:Error descargando https://www.soundjay.com/transportation/sounds/airplane-fly-over-02a.mp3: SQLite objects created in a thread can only be used in that same thread. The object was created in thread id 139956294676480 and this is thread id 139955110139456.\n",
            "ERROR:root:Error descargando https://www.soundjay.com/transportation/airplane-lift-off-01.mp3: SQLite objects created in a thread can only be used in that same thread. The object was created in thread id 139956294676480 and this is thread id 139955126924864.\n",
            "ERROR:root:Error descargando https://www.soundjay.com/transportation/airplane-fly-by-02.mp3: SQLite objects created in a thread can only be used in that same thread. The object was created in thread id 139956294676480 and this is thread id 139955118532160.\n",
            "ERROR:root:Error descargando https://www.soundjay.com/transportation/sounds/airplane-fly-over-01.mp3: SQLite objects created in a thread can only be used in that same thread. The object was created in thread id 139956294676480 and this is thread id 139955110139456.\n",
            "ERROR:root:Error descargando https://www.soundjay.com/transportation/airplane-fly-by-01a.wav: SQLite objects created in a thread can only be used in that same thread. The object was created in thread id 139956294676480 and this is thread id 139955317757504.\n"
          ]
        },
        {
          "output_type": "stream",
          "name": "stdout",
          "text": [
            "\n",
            "=== Procesando URL 2/3: https://www.soundjay.com/button-sounds-1.html ===\n"
          ]
        },
        {
          "output_type": "stream",
          "name": "stderr",
          "text": [
            "Procesando audios: 100%|██████████| 30/30 [00:00<00:00, 2442.05it/s]\n",
            "ERROR:root:Error descargando https://www.soundjay.com/buttons/button-2.mp3: SQLite objects created in a thread can only be used in that same thread. The object was created in thread id 139956294676480 and this is thread id 139955110139456.\n",
            "ERROR:root:Error descargando https://www.soundjay.com/buttons/sounds/button-2.mp3: SQLite objects created in a thread can only be used in that same thread. The object was created in thread id 139956294676480 and this is thread id 139955118532160.\n"
          ]
        },
        {
          "output_type": "stream",
          "name": "stdout",
          "text": [
            "\n",
            "=== Procesando URL 3/3: https://www.soundjay.com/nature-sounds.html ===\n"
          ]
        },
        {
          "output_type": "stream",
          "name": "stderr",
          "text": [
            "Procesando audios: 0it [00:00, ?it/s]\n"
          ]
        },
        {
          "output_type": "stream",
          "name": "stdout",
          "text": [
            "\n",
            "Total de audios descargados: 0\n"
          ]
        }
      ]
    }
  ]
}