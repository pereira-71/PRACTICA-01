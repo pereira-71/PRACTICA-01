{
  "nbformat": 4,
  "nbformat_minor": 0,
  "metadata": {
    "colab": {
      "provenance": [],
      "authorship_tag": "ABX9TyMfiVWNcZ8M+BC0h+zMCES9",
      "include_colab_link": true
    },
    "kernelspec": {
      "name": "python3",
      "display_name": "Python 3"
    },
    "language_info": {
      "name": "python"
    }
  },
  "cells": [
    {
      "cell_type": "markdown",
      "metadata": {
        "id": "view-in-github",
        "colab_type": "text"
      },
      "source": [
        "<a href=\"https://colab.research.google.com/github/pereira-71/PRACTICA-01-SIS421/blob/main/Audio.ipynb\" target=\"_parent\"><img src=\"https://colab.research.google.com/assets/colab-badge.svg\" alt=\"Open In Colab\"/></a>"
      ]
    },
    {
      "cell_type": "markdown",
      "source": [
        "1: Instalación de dependencias"
      ],
      "metadata": {
        "id": "Xssw5EZmyoWa"
      }
    },
    {
      "cell_type": "code",
      "source": [
        "!pip install requests beautifulsoup4 lxml mutagen python-magic\n",
        "print(\"Bibliotecas instaladas correctamente\")"
      ],
      "metadata": {
        "colab": {
          "base_uri": "https://localhost:8080/"
        },
        "id": "q7YNDC0ByqQu",
        "outputId": "12ddfe3e-dfb4-4cd4-b79d-7dc8df9bfa7c"
      },
      "execution_count": 31,
      "outputs": [
        {
          "output_type": "stream",
          "name": "stdout",
          "text": [
            "Requirement already satisfied: requests in /usr/local/lib/python3.11/dist-packages (2.32.3)\n",
            "Requirement already satisfied: beautifulsoup4 in /usr/local/lib/python3.11/dist-packages (4.13.4)\n",
            "Requirement already satisfied: lxml in /usr/local/lib/python3.11/dist-packages (5.4.0)\n",
            "Requirement already satisfied: mutagen in /usr/local/lib/python3.11/dist-packages (1.47.0)\n",
            "Requirement already satisfied: python-magic in /usr/local/lib/python3.11/dist-packages (0.4.27)\n",
            "Requirement already satisfied: charset-normalizer<4,>=2 in /usr/local/lib/python3.11/dist-packages (from requests) (3.4.2)\n",
            "Requirement already satisfied: idna<4,>=2.5 in /usr/local/lib/python3.11/dist-packages (from requests) (3.10)\n",
            "Requirement already satisfied: urllib3<3,>=1.21.1 in /usr/local/lib/python3.11/dist-packages (from requests) (2.5.0)\n",
            "Requirement already satisfied: certifi>=2017.4.17 in /usr/local/lib/python3.11/dist-packages (from requests) (2025.7.14)\n",
            "Requirement already satisfied: soupsieve>1.2 in /usr/local/lib/python3.11/dist-packages (from beautifulsoup4) (2.7)\n",
            "Requirement already satisfied: typing-extensions>=4.0.0 in /usr/local/lib/python3.11/dist-packages (from beautifulsoup4) (4.14.1)\n",
            "Bibliotecas instaladas correctamente\n"
          ]
        }
      ]
    },
    {
      "cell_type": "markdown",
      "source": [
        "requests: Para hacer solicitudes HTTP\n",
        "\n",
        "beautifulsoup4 y lxml: Para parsear HTML\n",
        "\n",
        "mutagen: Para validar archivos de audio\n",
        "\n",
        "python-magic: Para verificar tipos MIME reales de los archivos"
      ],
      "metadata": {
        "id": "a5tS9ZX3yvEI"
      }
    },
    {
      "cell_type": "markdown",
      "source": [
        "2: Configuración inicial"
      ],
      "metadata": {
        "id": "iWfVddIQy7aC"
      }
    },
    {
      "cell_type": "code",
      "source": [
        "import os\n",
        "import time\n",
        "import requests\n",
        "from bs4 import BeautifulSoup\n",
        "from urllib.parse import urljoin, urlparse\n",
        "import mimetypes\n",
        "import magic\n",
        "from mutagen.easyid3 import EasyID3\n",
        "from mutagen.mp3 import MP3\n",
        "from tqdm import tqdm\n",
        "\n",
        "# Configuración global\n",
        "HEADERS = {\n",
        "    'User-Agent': 'Mozilla/5.0 (Windows NT 10.0; Win64; x64) AppleWebKit/537.36 (KHTML, like Gecko) Chrome/91.0.4472.124 Safari/537.36'\n",
        "}\n",
        "AUDIO_EXTENSIONS = ['.mp3', '.wav', '.ogg', '.m4a', '.aac', '.flac', '.wma', '.mp4']\n",
        "MAX_FILE_SIZE_MB = 50  # Límite de tamaño por archivo\n",
        "REQUEST_TIMEOUT = 15  # segundos\n",
        "DELAY_BETWEEN_DOWNLOADS = 1  # segundo"
      ],
      "metadata": {
        "id": "ilZmzYwRyzuw"
      },
      "execution_count": 32,
      "outputs": []
    },
    {
      "cell_type": "markdown",
      "source": [
        " 3: Función principal de scraping"
      ],
      "metadata": {
        "id": "oiwSQi6MzAoi"
      }
    },
    {
      "cell_type": "code",
      "source": [
        "def descargar_audios(url_pagina, carpeta_destino=\"audios_descargados\", max_audios=20):\n",
        "    \"\"\"\n",
        "    Función optimizada para descargar archivos de audio de páginas web\n",
        "\n",
        "    Args:\n",
        "        url_pagina (str): URL de la página a scrapear\n",
        "        carpeta_destino (str): Carpeta para guardar audios\n",
        "        max_audios (int): Máximo número de audios a descargar (hasta 20)\n",
        "\n",
        "    Returns:\n",
        "        int: Número de audios descargados exitosamente\n",
        "    \"\"\"\n",
        "\n",
        "    # Validación de parámetros\n",
        "    max_audios = min(max(1, max_audios), 20)\n",
        "\n",
        "    # Crear carpeta con timestamp para evitar conflictos\n",
        "    timestamp = int(time.time())\n",
        "    carpeta_destino = f\"{carpeta_destino}_{timestamp}\"\n",
        "    os.makedirs(carpeta_destino, exist_ok=True)\n",
        "\n",
        "    # Obtener contenido de la página\n",
        "    try:\n",
        "        print(f\"\\n Analizando página: {url_pagina}\")\n",
        "        response = requests.get(url_pagina, headers=HEADERS, timeout=REQUEST_TIMEOUT)\n",
        "        response.raise_for_status()\n",
        "        soup = BeautifulSoup(response.content, 'lxml')\n",
        "    except Exception as e:\n",
        "        print(f\" Error al acceder a la página: {str(e)}\")\n",
        "        return 0\n",
        "\n",
        "    # Estrategias de búsqueda de audios\n",
        "    sources = []\n",
        "\n",
        "    # 1. Buscar etiquetas <audio> y sus <source>\n",
        "    for audio in soup.find_all('audio'):\n",
        "        if src := audio.get('src'):\n",
        "            sources.append(src)\n",
        "        for source in audio.find_all('source'):\n",
        "            if src := source.get('src'):\n",
        "                sources.append(src)\n",
        "\n",
        "    # 2. Buscar enlaces con extensiones de audio\n",
        "    for a in soup.find_all('a', href=True):\n",
        "        href = a['href'].lower()\n",
        "        if any(ext in href for ext in AUDIO_EXTENSIONS):\n",
        "            sources.append(a['href'])\n",
        "\n",
        "    # 3. Buscar en atributos data-*\n",
        "    for tag in soup.find_all(attrs={\"data-src\": True}):\n",
        "        sources.append(tag.get('data-src'))\n",
        "    for tag in soup.find_all(attrs={\"data-audio\": True}):\n",
        "        sources.append(tag.get('data-audio'))\n",
        "\n",
        "    # Eliminar duplicados y URLs inválidas\n",
        "    sources = list(set(filter(None, sources)))\n",
        "    print(f\"🔊 Se encontraron {len(sources)} posibles fuentes de audio\")\n",
        "\n",
        "    # Procesar las fuentes encontradas\n",
        "    audios_descargados = 0\n",
        "    progress_bar = tqdm(sources[:max_audios], desc=\"Descargando audios\", unit=\"audio\")\n",
        "\n",
        "    for src in progress_bar:\n",
        "        if audios_descargados >= max_audios:\n",
        "            break\n",
        "\n",
        "        try:\n",
        "            audio_url = urljoin(url_pagina, src)\n",
        "            progress_bar.set_postfix({\"actual\": audio_url.split('/')[-1][:20] + '...'})\n",
        "\n",
        "            # Verificación previa\n",
        "            head_resp = requests.head(audio_url, headers=HEADERS, timeout=REQUEST_TIMEOUT)\n",
        "            content_type = head_resp.headers.get('content-type', '')\n",
        "            content_length = int(head_resp.headers.get('content-length', 0))\n",
        "\n",
        "            # Validar tipo y tamaño\n",
        "            if not ('audio' in content_type.lower() or any(audio_url.lower().endswith(ext) for ext in AUDIO_EXTENSIONS)):\n",
        "                continue\n",
        "\n",
        "            if content_length > MAX_FILE_SIZE_MB * 1024 * 1024:\n",
        "                print(f\" Archivo demasiado grande: {audio_url}\")\n",
        "                continue\n",
        "\n",
        "            # Descargar el archivo\n",
        "            audio_resp = requests.get(audio_url, headers=HEADERS, timeout=REQUEST_TIMEOUT, stream=True)\n",
        "            audio_resp.raise_for_status()\n",
        "\n",
        "            # Determinar extensión\n",
        "            ext = os.path.splitext(urlparse(audio_url).path)[1].lower()\n",
        "            if not ext or ext not in AUDIO_EXTENSIONS:\n",
        "                ext = mimetypes.guess_extension(content_type) or '.mp3'\n",
        "\n",
        "            # Guardar archivo\n",
        "            filename = f\"audio_{audios_descargados+1}{ext}\"\n",
        "            filepath = os.path.join(carpeta_destino, filename)\n",
        "\n",
        "            with open(filepath, 'wb') as f:\n",
        "                for chunk in audio_resp.iter_content(chunk_size=8192):\n",
        "                    f.write(chunk)\n",
        "\n",
        "            # Validar que sea un audio real\n",
        "            try:\n",
        "                mime = magic.from_file(filepath, mime=True)\n",
        "                if not mime.startswith('audio/'):\n",
        "                    os.remove(filepath)\n",
        "                    continue\n",
        "\n",
        "                # Extraer metadatos si es MP3\n",
        "                if filename.endswith('.mp3'):\n",
        "                    try:\n",
        "                        audio = MP3(filepath, ID3=EasyID3)\n",
        "                        print(f\"\\n🎵 Metadatos: {audio.pprint()}\")\n",
        "                    except:\n",
        "                        pass\n",
        "\n",
        "                audios_descargados += 1\n",
        "                print(f\"OK Descargado: {filename} ({content_length/(1024*1024):.2f} MB)\")\n",
        "\n",
        "            except Exception as e:\n",
        "                print(f\"Error validando archivo: {str(e)}\")\n",
        "                if os.path.exists(filepath):\n",
        "                    os.remove(filepath)\n",
        "\n",
        "            time.sleep(DELAY_BETWEEN_DOWNLOADS)\n",
        "\n",
        "        except Exception as e:\n",
        "            print(f\" Error procesando {src}: {str(e)}\")\n",
        "            continue\n",
        "\n",
        "    print(f\"\\n Descarga completada! {audios_descargados} audios guardados en '{carpeta_destino}'\")\n",
        "    return audios_descargados"
      ],
      "metadata": {
        "id": "LeqaS6PVzFi7"
      },
      "execution_count": 33,
      "outputs": []
    },
    {
      "cell_type": "markdown",
      "source": [
        "4: Ejecución del scraping"
      ],
      "metadata": {
        "id": "jRBsIbGjzfpq"
      }
    },
    {
      "cell_type": "code",
      "source": [
        "# URLs de prueba con contenido de audio\n",
        "AUDIO_SAMPLES = [\n",
        "    \"https://www.soundhelix.com/audio-examples\",\n",
        "    \"https://www.soundjay.com/button-sounds-1.html\"\n",
        "\n",
        "]\n",
        "\n",
        "# Seleccionamos una URL para probar\n",
        "url_seleccionada = AUDIO_SAMPLES[1]  # podemos cambiar índice para probar diferentes sitios\n",
        "\n",
        "# Ejecutar scraping\n",
        "resultado = descargar_audios(\n",
        "    url_pagina=url_seleccionada,\n",
        "    carpeta_destino=\"mis_audios\",\n",
        "    max_audios=20  # Máximo permitido para aprendizaje\n",
        ")\n",
        "\n",
        "print(f\"\\nTotal de audios descargados: {resultado}\")"
      ],
      "metadata": {
        "colab": {
          "base_uri": "https://localhost:8080/"
        },
        "id": "Idg_KwZazhTm",
        "outputId": "0dbc26d7-17f2-40e7-d682-aef9dd808032"
      },
      "execution_count": 34,
      "outputs": [
        {
          "output_type": "stream",
          "name": "stdout",
          "text": [
            "\n",
            " Analizando página: https://www.soundjay.com/button-sounds-1.html\n",
            "🔊 Se encontraron 30 posibles fuentes de audio\n"
          ]
        },
        {
          "output_type": "stream",
          "name": "stderr",
          "text": [
            "Descargando audios:   0%|          | 0/20 [00:00<?, ?audio/s, actual=button-8.mp3...]"
          ]
        },
        {
          "output_type": "stream",
          "name": "stdout",
          "text": [
            "\n",
            "🎵 Metadatos: MPEG 1 layer 3, 128000 bps (CBR?), 44100 Hz, 1 chn, 1.04 seconds (audio/mp3)\n",
            "artist=SoundJay.com Sound Effects\n",
            "OK Descargado: audio_1.mp3 (0.02 MB)\n"
          ]
        },
        {
          "output_type": "stream",
          "name": "stderr",
          "text": [
            "Descargando audios:   5%|▌         | 1/20 [00:01<00:21,  1.11s/audio, actual=button-09a.mp3...]"
          ]
        },
        {
          "output_type": "stream",
          "name": "stdout",
          "text": [
            "\n",
            "🎵 Metadatos: MPEG 1 layer 3, 128000 bps (CBR?), 44100 Hz, 1 chn, 0.47 seconds (audio/mp3)\n",
            "artist=SoundJay.com Sound Effects\n",
            "OK Descargado: audio_2.mp3 (0.01 MB)\n"
          ]
        },
        {
          "output_type": "stream",
          "name": "stderr",
          "text": [
            "Descargando audios:  10%|█         | 2/20 [00:02<00:20,  1.13s/audio, actual=button-1.mp3...]  "
          ]
        },
        {
          "output_type": "stream",
          "name": "stdout",
          "text": [
            "\n",
            "🎵 Metadatos: MPEG 1 layer 3, 128000 bps (CBR?), 44100 Hz, 1 chn, 0.65 seconds (audio/mp3)\n",
            "artist=SoundJay.com Sound Effects\n",
            "OK Descargado: audio_3.mp3 (0.01 MB)\n"
          ]
        },
        {
          "output_type": "stream",
          "name": "stderr",
          "text": [
            "Descargando audios:  15%|█▌        | 3/20 [00:03<00:18,  1.10s/audio, actual=button-3.mp3...]"
          ]
        },
        {
          "output_type": "stream",
          "name": "stdout",
          "text": [
            "\n",
            "🎵 Metadatos: MPEG 1 layer 3, 128000 bps (CBR?), 44100 Hz, 1 chn, 0.42 seconds (audio/mp3)\n",
            "artist=SoundJay.com Sound Effects\n",
            "OK Descargado: audio_4.mp3 (0.01 MB)\n"
          ]
        },
        {
          "output_type": "stream",
          "name": "stderr",
          "text": [
            "Descargando audios:  20%|██        | 4/20 [00:04<00:17,  1.09s/audio, actual=button-10.wav...]"
          ]
        },
        {
          "output_type": "stream",
          "name": "stdout",
          "text": [
            "OK Descargado: audio_5.wav (0.01 MB)\n"
          ]
        },
        {
          "output_type": "stream",
          "name": "stderr",
          "text": [
            "Descargando audios:  25%|██▌       | 5/20 [00:05<00:16,  1.10s/audio, actual=button-09a.wav...]"
          ]
        },
        {
          "output_type": "stream",
          "name": "stdout",
          "text": [
            "OK Descargado: audio_6.wav (0.02 MB)\n"
          ]
        },
        {
          "output_type": "stream",
          "name": "stderr",
          "text": [
            "Descargando audios:  30%|███       | 6/20 [00:06<00:15,  1.12s/audio, actual=button-09a.mp3...]"
          ]
        },
        {
          "output_type": "stream",
          "name": "stdout",
          "text": [
            "\n",
            "🎵 Metadatos: MPEG 1 layer 3, 128000 bps (CBR?), 44100 Hz, 1 chn, 0.47 seconds (audio/mp3)\n",
            "artist=SoundJay.com Sound Effects\n",
            "OK Descargado: audio_7.mp3 (0.01 MB)\n"
          ]
        },
        {
          "output_type": "stream",
          "name": "stderr",
          "text": [
            "Descargando audios:  35%|███▌      | 7/20 [00:07<00:14,  1.09s/audio, actual=button-4.wav...]  "
          ]
        },
        {
          "output_type": "stream",
          "name": "stdout",
          "text": [
            "OK Descargado: audio_8.wav (0.03 MB)\n"
          ]
        },
        {
          "output_type": "stream",
          "name": "stderr",
          "text": [
            "Descargando audios:  40%|████      | 8/20 [00:08<00:13,  1.10s/audio, actual=button-6.mp3...]"
          ]
        },
        {
          "output_type": "stream",
          "name": "stdout",
          "text": [
            "\n",
            "🎵 Metadatos: MPEG 1 layer 3, 128000 bps (CBR?), 44100 Hz, 1 chn, 0.50 seconds (audio/mp3)\n",
            "artist=SoundJay.com Sound Effects\n",
            "OK Descargado: audio_9.mp3 (0.01 MB)\n"
          ]
        },
        {
          "output_type": "stream",
          "name": "stderr",
          "text": [
            "Descargando audios:  45%|████▌     | 9/20 [00:09<00:12,  1.11s/audio, actual=button-7.mp3...]"
          ]
        },
        {
          "output_type": "stream",
          "name": "stdout",
          "text": [
            "\n",
            "🎵 Metadatos: MPEG 1 layer 3, 128000 bps (CBR?), 44100 Hz, 1 chn, 0.47 seconds (audio/mp3)\n",
            "artist=SoundJay.com Sound Effects\n",
            "OK Descargado: audio_10.mp3 (0.01 MB)\n"
          ]
        },
        {
          "output_type": "stream",
          "name": "stderr",
          "text": [
            "Descargando audios:  50%|█████     | 10/20 [00:10<00:10,  1.09s/audio, actual=button-6.wav...]"
          ]
        },
        {
          "output_type": "stream",
          "name": "stdout",
          "text": [
            "OK Descargado: audio_11.wav (0.02 MB)\n"
          ]
        },
        {
          "output_type": "stream",
          "name": "stderr",
          "text": [
            "Descargando audios:  55%|█████▌    | 11/20 [00:12<00:09,  1.09s/audio, actual=button-2.mp3...]"
          ]
        },
        {
          "output_type": "stream",
          "name": "stdout",
          "text": [
            "\n",
            "🎵 Metadatos: MPEG 1 layer 3, 128000 bps (CBR?), 44100 Hz, 1 chn, 2.90 seconds (audio/mp3)\n",
            "artist=SoundJay.com Sound Effects\n",
            "OK Descargado: audio_12.mp3 (0.04 MB)\n"
          ]
        },
        {
          "output_type": "stream",
          "name": "stderr",
          "text": [
            "Descargando audios:  60%|██████    | 12/20 [00:13<00:08,  1.10s/audio, actual=button-8.mp3...]"
          ]
        },
        {
          "output_type": "stream",
          "name": "stdout",
          "text": [
            "\n",
            "🎵 Metadatos: MPEG 1 layer 3, 128000 bps (CBR?), 44100 Hz, 1 chn, 1.04 seconds (audio/mp3)\n",
            "artist=SoundJay.com Sound Effects\n",
            "OK Descargado: audio_13.mp3 (0.02 MB)\n"
          ]
        },
        {
          "output_type": "stream",
          "name": "stderr",
          "text": [
            "Descargando audios:  65%|██████▌   | 13/20 [00:14<00:07,  1.09s/audio, actual=button-10.mp3...]"
          ]
        },
        {
          "output_type": "stream",
          "name": "stdout",
          "text": [
            "\n",
            "🎵 Metadatos: MPEG 1 layer 3, 128000 bps (CBR?), 44100 Hz, 1 chn, 0.44 seconds (audio/mp3)\n",
            "artist=SoundJay.com Sound Effects\n",
            "OK Descargado: audio_14.mp3 (0.01 MB)\n"
          ]
        },
        {
          "output_type": "stream",
          "name": "stderr",
          "text": [
            "Descargando audios:  70%|███████   | 14/20 [00:15<00:06,  1.08s/audio, actual=button-10.mp3...]"
          ]
        },
        {
          "output_type": "stream",
          "name": "stdout",
          "text": [
            "\n",
            "🎵 Metadatos: MPEG 1 layer 3, 128000 bps (CBR?), 44100 Hz, 1 chn, 0.44 seconds (audio/mp3)\n",
            "artist=SoundJay.com Sound Effects\n",
            "OK Descargado: audio_15.mp3 (0.01 MB)\n"
          ]
        },
        {
          "output_type": "stream",
          "name": "stderr",
          "text": [
            "Descargando audios:  75%|███████▌  | 15/20 [00:16<00:05,  1.09s/audio, actual=button-6.mp3...] "
          ]
        },
        {
          "output_type": "stream",
          "name": "stdout",
          "text": [
            "\n",
            "🎵 Metadatos: MPEG 1 layer 3, 128000 bps (CBR?), 44100 Hz, 1 chn, 0.50 seconds (audio/mp3)\n",
            "artist=SoundJay.com Sound Effects\n",
            "OK Descargado: audio_16.mp3 (0.01 MB)\n"
          ]
        },
        {
          "output_type": "stream",
          "name": "stderr",
          "text": [
            "Descargando audios:  80%|████████  | 16/20 [00:17<00:04,  1.08s/audio, actual=button-7.wav...]"
          ]
        },
        {
          "output_type": "stream",
          "name": "stdout",
          "text": [
            "OK Descargado: audio_17.wav (0.02 MB)\n"
          ]
        },
        {
          "output_type": "stream",
          "name": "stderr",
          "text": [
            "Descargando audios:  85%|████████▌ | 17/20 [00:18<00:03,  1.09s/audio, actual=button-8.wav...]"
          ]
        },
        {
          "output_type": "stream",
          "name": "stdout",
          "text": [
            "OK Descargado: audio_18.wav (0.07 MB)\n"
          ]
        },
        {
          "output_type": "stream",
          "name": "stderr",
          "text": [
            "Descargando audios:  90%|█████████ | 18/20 [00:19<00:02,  1.10s/audio, actual=button-1.wav...]"
          ]
        },
        {
          "output_type": "stream",
          "name": "stdout",
          "text": [
            "OK Descargado: audio_19.wav (0.03 MB)\n"
          ]
        },
        {
          "output_type": "stream",
          "name": "stderr",
          "text": [
            "Descargando audios:  95%|█████████▌| 19/20 [00:20<00:01,  1.10s/audio, actual=button-4.mp3...]"
          ]
        },
        {
          "output_type": "stream",
          "name": "stdout",
          "text": [
            "\n",
            "🎵 Metadatos: MPEG 1 layer 3, 128000 bps (CBR?), 44100 Hz, 1 chn, 0.68 seconds (audio/mp3)\n",
            "artist=SoundJay.com Sound Effects\n",
            "OK Descargado: audio_20.mp3 (0.01 MB)\n"
          ]
        },
        {
          "output_type": "stream",
          "name": "stderr",
          "text": [
            "Descargando audios: 100%|██████████| 20/20 [00:21<00:00,  1.10s/audio, actual=button-4.mp3...]"
          ]
        },
        {
          "output_type": "stream",
          "name": "stdout",
          "text": [
            "\n",
            " Descarga completada! 20 audios guardados en 'mis_audios_1754105763'\n",
            "\n",
            "Total de audios descargados: 20\n"
          ]
        },
        {
          "output_type": "stream",
          "name": "stderr",
          "text": [
            "\n"
          ]
        }
      ]
    },
    {
      "cell_type": "markdown",
      "source": [
        "5: Reproducción y verificación"
      ],
      "metadata": {
        "id": "DuUNiezX1nPT"
      }
    },
    {
      "cell_type": "code",
      "source": [
        "import os\n",
        "\n",
        "# Encuentra todas las carpetas que empiecen por 'mis_audios'\n",
        "carpetas = sorted([\n",
        "    d for d in os.listdir()\n",
        "    if os.path.isdir(d) and d.startswith(\"mis_audios_\")\n",
        "], key=lambda x: os.path.getmtime(x))\n",
        "\n",
        "if carpetas:\n",
        "    ultima_carpeta = carpetas[-1]\n",
        "    print(f\"🎧 Reproduciendo audios desde: {ultima_carpeta}\")\n",
        "\n",
        "    from IPython.display import Audio, display\n",
        "\n",
        "    # Reproduce todos los audios encontrados\n",
        "    for nombre in sorted(os.listdir(ultima_carpeta)):\n",
        "        if nombre.lower().endswith(('.mp3', '.wav')):\n",
        "            print(f\"\\n{name}\")\n",
        "            display(Audio(filename=os.path.join(ultima_carpeta, nombre)))\n",
        "else:\n",
        "    print(\"No se encontraron carpetas con audios\")\n"
      ],
      "metadata": {
        "colab": {
          "base_uri": "https://localhost:8080/",
          "height": 240
        },
        "id": "lSlgVzrR1ohj",
        "outputId": "f11ae83b-a9f5-4a64-b7b3-0d4e947472ee"
      },
      "execution_count": 35,
      "outputs": [
        {
          "output_type": "stream",
          "name": "stdout",
          "text": [
            "🎧 Reproduciendo audios desde: mis_audios_1754105763\n"
          ]
        },
        {
          "output_type": "error",
          "ename": "NameError",
          "evalue": "name 'name' is not defined",
          "traceback": [
            "\u001b[0;31m---------------------------------------------------------------------------\u001b[0m",
            "\u001b[0;31mNameError\u001b[0m                                 Traceback (most recent call last)",
            "\u001b[0;32m/tmp/ipython-input-3443334214.py\u001b[0m in \u001b[0;36m<cell line: 0>\u001b[0;34m()\u001b[0m\n\u001b[1;32m     16\u001b[0m     \u001b[0;32mfor\u001b[0m \u001b[0mnombre\u001b[0m \u001b[0;32min\u001b[0m \u001b[0msorted\u001b[0m\u001b[0;34m(\u001b[0m\u001b[0mos\u001b[0m\u001b[0;34m.\u001b[0m\u001b[0mlistdir\u001b[0m\u001b[0;34m(\u001b[0m\u001b[0multima_carpeta\u001b[0m\u001b[0;34m)\u001b[0m\u001b[0;34m)\u001b[0m\u001b[0;34m:\u001b[0m\u001b[0;34m\u001b[0m\u001b[0;34m\u001b[0m\u001b[0m\n\u001b[1;32m     17\u001b[0m         \u001b[0;32mif\u001b[0m \u001b[0mnombre\u001b[0m\u001b[0;34m.\u001b[0m\u001b[0mlower\u001b[0m\u001b[0;34m(\u001b[0m\u001b[0;34m)\u001b[0m\u001b[0;34m.\u001b[0m\u001b[0mendswith\u001b[0m\u001b[0;34m(\u001b[0m\u001b[0;34m(\u001b[0m\u001b[0;34m'.mp3'\u001b[0m\u001b[0;34m,\u001b[0m \u001b[0;34m'.wav'\u001b[0m\u001b[0;34m)\u001b[0m\u001b[0;34m)\u001b[0m\u001b[0;34m:\u001b[0m\u001b[0;34m\u001b[0m\u001b[0;34m\u001b[0m\u001b[0m\n\u001b[0;32m---> 18\u001b[0;31m             \u001b[0mprint\u001b[0m\u001b[0;34m(\u001b[0m\u001b[0;34mf\"\\n{name}\"\u001b[0m\u001b[0;34m)\u001b[0m\u001b[0;34m\u001b[0m\u001b[0;34m\u001b[0m\u001b[0m\n\u001b[0m\u001b[1;32m     19\u001b[0m             \u001b[0mdisplay\u001b[0m\u001b[0;34m(\u001b[0m\u001b[0mAudio\u001b[0m\u001b[0;34m(\u001b[0m\u001b[0mfilename\u001b[0m\u001b[0;34m=\u001b[0m\u001b[0mos\u001b[0m\u001b[0;34m.\u001b[0m\u001b[0mpath\u001b[0m\u001b[0;34m.\u001b[0m\u001b[0mjoin\u001b[0m\u001b[0;34m(\u001b[0m\u001b[0multima_carpeta\u001b[0m\u001b[0;34m,\u001b[0m \u001b[0mnombre\u001b[0m\u001b[0;34m)\u001b[0m\u001b[0;34m)\u001b[0m\u001b[0;34m)\u001b[0m\u001b[0;34m\u001b[0m\u001b[0;34m\u001b[0m\u001b[0m\n\u001b[1;32m     20\u001b[0m \u001b[0;32melse\u001b[0m\u001b[0;34m:\u001b[0m\u001b[0;34m\u001b[0m\u001b[0;34m\u001b[0m\u001b[0m\n",
            "\u001b[0;31mNameError\u001b[0m: name 'name' is not defined"
          ]
        }
      ]
    }
  ]
}